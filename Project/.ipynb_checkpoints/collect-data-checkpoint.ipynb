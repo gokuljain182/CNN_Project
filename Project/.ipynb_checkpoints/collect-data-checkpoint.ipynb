{
 "cells": [
  {
   "cell_type": "code",
   "execution_count": 1,
   "id": "85ff69bc",
   "metadata": {},
   "outputs": [],
   "source": [
    "import cv2\n",
    "import numpy as np\n",
    "import os"
   ]
  },
  {
   "cell_type": "code",
   "execution_count": 2,
   "id": "62c11f62",
   "metadata": {},
   "outputs": [],
   "source": [
    "if not os.path.exists(\"data\"):\n",
    "    os.makedirs(\"data\")\n",
    "    os.makedirs(\"data/train\")\n",
    "    os.makedirs(\"data/test\")\n",
    "    os.makedirs(\"data/train/pain\")\n",
    "    os.makedirs(\"data/train/stop\")\n",
    "    os.makedirs(\"data/train/hurts\")\n",
    "    #os.makedirs(\"data/train/iamok\")\n",
    "    os.makedirs(\"data/train/iloveyou\")\n",
    "    os.makedirs(\"data/test/pain\")\n",
    "    os.makedirs(\"data/test/stop\")\n",
    "    os.makedirs(\"data/test/hurts\")\n",
    "    #os.makedirs(\"data/test/iamok\")\n",
    "    os.makedirs(\"data/test/iloveyou\")"
   ]
  },
  {
   "cell_type": "code",
   "execution_count": 3,
   "id": "c5d54a52",
   "metadata": {},
   "outputs": [],
   "source": [
    "# Set the mode to either \"train\" or \"test\"\n",
    "mode = 'train'\n",
    "directory = 'data/'+mode+'/'"
   ]
  },
  {
   "cell_type": "code",
   "execution_count": 4,
   "id": "02c54d37",
   "metadata": {},
   "outputs": [],
   "source": [
    "# Start capturing from the default camera\n",
    "cap = cv2.VideoCapture(0)"
   ]
  },
  {
   "cell_type": "code",
   "execution_count": 5,
   "id": "8c7ea7cf",
   "metadata": {},
   "outputs": [],
   "source": [
    "while True:\n",
    "    _, frame = cap.read()\n",
    "    # Simulating mirror image\n",
    "    frame = cv2.flip(frame, 1)\n",
    "    \n",
    "     \n",
    "    # Getting count of existing images\n",
    "    count = {'pain': len(os.listdir(directory+\"/pain\")),\n",
    "             'stop': len(os.listdir(directory+\"/stop\")),\n",
    "             'hurts': len(os.listdir(directory+\"/hurts\")),\n",
    "             #'iamok': len(os.listdir(directory+\"/iamok\")),\n",
    "             'iloveyou': len(os.listdir(directory+\"/iloveyou\"))}\n",
    "    \n",
    "     # Printing the image counts on the video feed\n",
    "    cv2.putText(frame, \"MODE : \" + mode, (10, 50),cv2.FONT_HERSHEY_SIMPLEX, 1, (0, 0, 255), 2)\n",
    "    cv2.putText(frame, \"IMAGE COUNT\", (10, 100),cv2.FONT_HERSHEY_SIMPLEX, 1, (0, 0, 255), 2)\n",
    "    cv2.putText(frame, \"PAIN : \" + str(count['pain']), (10, 120), cv2.FONT_HERSHEY_PLAIN, 1, (0, 0, 255), 2)\n",
    "    cv2.putText(frame, \"STOP : \" + str(count['stop']), (10, 140), cv2.FONT_HERSHEY_PLAIN, 1, (0, 0, 255), 2)\n",
    "    cv2.putText(frame, \"HURTS : \" + str(count['hurts']), (10, 160), cv2.FONT_HERSHEY_PLAIN, 1, (0, 0, 255), 2)\n",
    "    #cv2.putText(frame, \"IAMOK : \" + str(count['iamok']), (10, 180), cv2.FONT_HERSHEY_PLAIN, 1, (0, 0, 255), 2)\n",
    "    cv2.putText(frame, \"ILOVEYOU : \" + str(count['iloveyou']), (10, 180), cv2.FONT_HERSHEY_PLAIN, 1, (0, 0, 255), 2)\n",
    "\n",
    "    # Define the coordinates of the Region of Interest (ROI)\n",
    "    x1 = int(0.5*frame.shape[1])\n",
    "    y1 = 10\n",
    "    x2 = frame.shape[1]-10\n",
    "    y2 = int(0.5*frame.shape[1])\n",
    "    # Drawing the ROI\n",
    "    # The increment/decrement by 1 is to compensate for the bounding box\n",
    "    cv2.rectangle(frame, (x1-1, y1-1), (x2+1, y2+1), (255,0,0),1)\n",
    "    # Extract the region of interest from the frame\n",
    "    roi = frame[y1:y2, x1:x2]\n",
    "    #Resize the extracted ROI to 64x64 pixels\n",
    "    roi = cv2.resize(roi, (64, 64)) \n",
    " \n",
    "    cv2.imshow(\"Sign Detection\", frame)\n",
    "\n",
    "    roi = cv2.cvtColor(roi, cv2.COLOR_BGR2GRAY)\n",
    "    _, roi = cv2.threshold(roi, 120, 255, cv2.THRESH_BINARY)\n",
    "    cv2.imshow(\"ROI\", roi)\n",
    "    \n",
    "    interrupt = cv2.waitKey(10)\n",
    "    if interrupt & 0xFF == 27: # esc key\n",
    "        break\n",
    "    if interrupt & 0xFF == ord('0'):\n",
    "        cv2.imwrite(directory+'pain/'+str(count['pain'])+'.jpg', roi)\n",
    "    if interrupt & 0xFF == ord('1'):\n",
    "        cv2.imwrite(directory+'stop/'+str(count['stop'])+'.jpg', roi)\n",
    "    if interrupt & 0xFF == ord('2'):\n",
    "        cv2.imwrite(directory+'hurts/'+str(count['hurts'])+'.jpg', roi)\n",
    "    # if interrupt & 0xFF == ord('3'):\n",
    "    #     cv2.imwrite(directory+'iamok/'+str(count['iamok'])+'.jpg', roi)\n",
    "    if interrupt & 0xFF == ord('3'):\n",
    "        cv2.imwrite(directory+'iloveyou/'+str(count['iloveyou'])+'.jpg', roi)\n",
    "    \n",
    "cap.release()\n",
    "cv2.destroyAllWindows()\n"
   ]
  },
  {
   "cell_type": "code",
   "execution_count": null,
   "id": "69965d76",
   "metadata": {},
   "outputs": [],
   "source": []
  },
  {
   "cell_type": "code",
   "execution_count": null,
   "id": "45942c03",
   "metadata": {},
   "outputs": [],
   "source": []
  }
 ],
 "metadata": {
  "kernelspec": {
   "display_name": "Python 3",
   "language": "python",
   "name": "python3"
  },
  "language_info": {
   "codemirror_mode": {
    "name": "ipython",
    "version": 3
   },
   "file_extension": ".py",
   "mimetype": "text/x-python",
   "name": "python",
   "nbconvert_exporter": "python",
   "pygments_lexer": "ipython3",
   "version": "3.8.8"
  }
 },
 "nbformat": 4,
 "nbformat_minor": 5
}
